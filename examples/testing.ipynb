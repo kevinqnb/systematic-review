{
 "cells": [
  {
   "cell_type": "code",
   "execution_count": 2,
   "metadata": {},
   "outputs": [],
   "source": [
    "# Chat Models\n",
    "from huggingface_hub import hf_hub_download\n",
    "from langchain_ollama import ChatOllama\n",
    "\n",
    "# Chat structure\n",
    "from langchain_core.prompts import PromptTemplate\n",
    "from langchain_core.prompts import ChatPromptTemplate\n",
    "from langgraph.graph import START, END, StateGraph\n",
    "\n",
    "# Typing\n",
    "from typing_extensions import TypedDict\n",
    "from pydantic import BaseModel, Field\n",
    "\n",
    "from systematic_review import *\n",
    "\n",
    "%load_ext autoreload\n",
    "%autoreload 2"
   ]
  },
  {
   "cell_type": "markdown",
   "metadata": {},
   "source": [
    "### Load PDF"
   ]
  },
  {
   "cell_type": "code",
   "execution_count": 91,
   "metadata": {},
   "outputs": [],
   "source": [
    "doc = XmlDocument(doi = '1234')\n",
    "doc.load('../collection/examples/processed/definitions2.grobid.tei.xml', token_size = 1000)"
   ]
  },
  {
   "cell_type": "code",
   "execution_count": 92,
   "metadata": {},
   "outputs": [
    {
     "name": "stdout",
     "output_type": "stream",
     "text": [
      "# The importance of small waterbodies for biodiversity and ecosystem services: implications for policy makers\n",
      "## Abstract\n",
      "Small waterbodies, including ponds and small lakes, low-order streams, ditches and springs, are the most numerous freshwater environments globally, are critical for freshwater biodiversity and are increasingly recognised for their role in ecosystem service delivery. Small waters often represent the best remaining examples of intact freshwater habitats and are the most likely to remain unpolluted, often being a refuge for species which have disappeared from larger, more damaged, waterbodies. Practically all waterrelated ecosystem services are initially mediated by small waters and some, such as carbon cycling, may be dominated by them. Small waters are exposed to all the threats affecting larger waters, and some experienced only by small waters. Despite this, small waters remain the least investigated part of the water environment and are largely excluded from water management planning. We identify the priorities for research to underpin better protection of small waters and recommend policy actions needed to better integrate small waters into the management of catchments and landscapes. The primary requirements are to identify reliable monitoring programmes for small waters, develop effective measures to protect the biodiversity and ecosystem services they provide and ensure that regulators take full account of this critical part of the water environment.\n",
      "\n",
      "\n"
     ]
    }
   ],
   "source": [
    "print(doc.title_abstract)"
   ]
  },
  {
   "cell_type": "code",
   "execution_count": 93,
   "metadata": {},
   "outputs": [
    {
     "name": "stdout",
     "output_type": "stream",
     "text": [
      "## Definitions\n",
      "'Small waterbodies' is an ambiguous term with, as yet, no universally accepted or legal definition. In this paper, we use the term to refer to ponds and small lakes, small streams including headwaters, ditches and springs. In the following section, the approaches which have been taken to derive these definitions are described.\n",
      "\n",
      "## Ponds and small lakes\n",
      "Ponds are small standing waters varying in size from 1 m 2 to about 2-5 ha in area and may be permanent or seasonal, man-made or naturally created (Pond Conservation Group, 1993;Collinson et al., 1995;Biggs et al., 2007;E.P.C.N., 2007;Cereghino et al., 2008). Although there is a long history, dating back to the nineteenth century, of attempts to define the difference between a pond and a lake (Biggs et al., 2005), large ponds and small lakes share many characteristics in terms of structure and function, and the transition zone between the two types of habitat is very gradual (Søndergaard et al., 2005;De Meester et al., 2005). Indeed, ponds merge imperceptibly into virtually all other freshwater habitat types (Biggs et al., 1997). However, for practical purposes, such as estimating waterbody numbers or comparing waterbody types, most authors have adopted a size-based classification with a size boundary somewhere between 1 and 5 ha, which can be fairly easily measured in the field (e.g. Williams et al., 2004;Kalettka & Rudat, 2006;Davies et al., 2008a, b;De Bie et al., 2008;Williams et al., 2010a). Occasionally, 'pond' studies are restricted to waters of no more than 0.5 ha (e.g. Lafitte et al., 2009) or extended to include those up to 8 m in depth or 10 ha in area (e.g. Oertli et al., 2000Oertli et al., , 2005)). The Ramsar Convention adopted a cut-off between ponds and lakes of 8 ha, although in practice this has not been widely applied by workers investigating these\n"
     ]
    }
   ],
   "source": [
    "print(doc.pages[1])"
   ]
  },
  {
   "cell_type": "markdown",
   "metadata": {},
   "source": [
    "### Language Model"
   ]
  },
  {
   "cell_type": "code",
   "execution_count": 35,
   "metadata": {},
   "outputs": [],
   "source": [
    "# Load the language model\n",
    "llm = ChatOllama(\n",
    "    model=\"gemma3:12b-it-qat\",\n",
    "    temperature=0,\n",
    "    num_ctx = 25000 # Set to 50k on SCC?\n",
    ")\n",
    "\n",
    "# Specify prompt and response formats\n",
    "prompt_template1 = PromptTemplate.from_template(\n",
    "    \"<start_of_turn>user\\n{instructions}<end_of_turn>\\n\"\n",
    "    \"<start_of_turn>user\\n{context}<end_of_turn>\\n\"\n",
    "    \"<start_of_turn>user\\n{query}<end_of_turn>\\n\"\n",
    "    \"<start_of_turn>model\\n\"\n",
    ")\n",
    "\n",
    "prompt_template2 = ChatPromptTemplate([\n",
    "    (\"user\", \"{instructions}\"),\n",
    "    (\"user\", \"{context}\"),\n",
    "    (\"user\", \"{query}\")\n",
    "])\n",
    "\n",
    "class BooleanResponse(BaseModel):\n",
    "    \"\"\"\n",
    "    Manages a structured, boolean response from a language model.\n",
    "    \"\"\"\n",
    "    content : bool = Field(\n",
    "        description = \n",
    "            \"Respond with False if the answer is No or Unknown. \"\n",
    "            \"Respond True only if the answer is Yes. \"\n",
    "    )\n",
    "\n",
    "# State for an individual paper\n",
    "class State(TypedDict):\n",
    "    context : str\n",
    "    definition_bool : bool\n",
    "    definition : str\n",
    "    table_bool : bool\n",
    "\n",
    "boolean_llm = llm.with_structured_output(schema = BooleanResponse)"
   ]
  },
  {
   "cell_type": "code",
   "execution_count": 111,
   "metadata": {},
   "outputs": [],
   "source": [
    "from ollama import chat\n",
    "from ollama import ChatResponse\n",
    "\n",
    "#model = \"gemma3:12b-it-qat\"\n",
    "model = \"olmo2:13b\"\n",
    "\n",
    "class BooleanResponse(BaseModel):\n",
    "    \"\"\"\n",
    "    Manages a structured, boolean response from a language model.\n",
    "    \"\"\"\n",
    "    content : bool = Field(\n",
    "        description = \n",
    "            \"Respond with False if the answer is No or Unknown. \"\n",
    "            \"Respond True only if the answer is Yes. \"\n",
    "    )\n",
    "\n",
    "boolean_format = BooleanResponse.model_json_schema()\n",
    "response_boolean_formatter = lambda response: BooleanResponse.model_validate_json(\n",
    "    response.message.content\n",
    ").content\n",
    "\n",
    "# State for an individual paper\n",
    "class State(TypedDict):\n",
    "    context : str\n",
    "    definition_bool : bool\n",
    "    definition : str\n",
    "    table_bool : bool\n"
   ]
  },
  {
   "cell_type": "code",
   "execution_count": 112,
   "metadata": {},
   "outputs": [
    {
     "data": {
      "text/plain": [
       "'The color of the sky can vary depending on multiple factors such as time of day, weather conditions, and atmospheric particulates. At sunrise and sunset, the sky often takes on shades of orange, red, and pink due to the way the Earth\\'s atmosphere scatters shorter wavelengths of light (like blue) and allows longer wavelengths (like reds and oranges) to pass through more easily.\\n\\nUnder clear daylight conditions without such obstructions or when viewed from space, the sky appears blue because molecules in the Earth\\'s atmosphere scatter blue light from the sun more than they scatter red light. This process is called Rayleigh scattering.\\n\\nTherefore, while it\\'s accurate to say the sky is typically blue during the day under normal circumstances, the statement \"The sky is blue\" simplifies a complex natural phenomenon and isn\\'t always true in every situation.\\n\\nIf you\\'re observing an orange sky during sunrise or sunset, it\\'s perfectly normal and expected. The context is crucial for understanding why the sky appears as it does.'"
      ]
     },
     "execution_count": 112,
     "metadata": {},
     "output_type": "execute_result"
    }
   ],
   "source": [
    "response: ChatResponse = chat(model=model, messages=[\n",
    "  {\n",
    "    'role': 'user',\n",
    "    'content': 'The sky is orange',\n",
    "  },\n",
    "  {\n",
    "    'role': 'user',\n",
    "    'content': 'Is the sky blue?',\n",
    "  },\n",
    "],\n",
    "#format = boolean_format\n",
    ")\n",
    "#print(response_boolean_formatter(response))\n",
    "response.message.content"
   ]
  },
  {
   "cell_type": "code",
   "execution_count": 113,
   "metadata": {},
   "outputs": [],
   "source": [
    "class State(TypedDict):\n",
    "    abstract : str\n",
    "    text : str\n",
    "    abstract_bool : bool\n",
    "    definition_bool : bool\n",
    "    definition : str\n",
    "    table_bool : bool\n",
    "\n",
    "\n",
    "def screen_abstract(state: State):\n",
    "    \"\"\"\n",
    "    Screen the abstract of the current paper for relevance to ponds or lakes.\n",
    "\n",
    "    Args:\n",
    "        state (State): Current state of the chat.\n",
    "    Returns:\n",
    "        state (State): Updated state with generated response.\n",
    "    \"\"\"\n",
    "    # Check that abstract has not already been screened\n",
    "    if state.get(\"abstract_bool\") is None:\n",
    "        instructions = (\n",
    "            \"You will be given contextual information from the title and abstract of a \"\n",
    "            \"scientific research paper and asked to accurately infer information about \"\n",
    "            \"the paper's contents. Your answer should be a boolean value with a value \"\n",
    "            \"of False if the answer is No or Unknown and a value of True only if the answer is Yes. \"\n",
    "        )\n",
    "        context = state[\"abstract\"]\n",
    "        query = (\n",
    "            \"Does this paper study or discuss freshwater ponds or lakes in some capacity?\"\n",
    "        )\n",
    "        messages = [\n",
    "            {'role': 'system', 'content': instructions},\n",
    "            {'role': 'user', 'content': context},\n",
    "            {'role': 'user', 'content': query}\n",
    "        ]\n",
    "        response: ChatResponse = chat(model=model, messages=messages, format=boolean_format)\n",
    "        return {\"abstract_bool\": response_boolean_formatter(response)}\n",
    "    else:\n",
    "        return state\n",
    "\n",
    "\n",
    "def screen_definition(state: State):\n",
    "    \"\"\"\n",
    "    Screen the current page for a scientific definition.\n",
    "\n",
    "    Args:\n",
    "        state (State): Current state of the chat.\n",
    "    Returns:\n",
    "        state (State): Updated state with generated response.\n",
    "    \"\"\"\n",
    "    instructions = (\n",
    "        \"You will be given contextual information from a page of a scientific research paper \"\n",
    "        \"and asked to accurately answer questions about its contents. Please answer only \"\n",
    "        \"for the information shown on the current page, and not the paper as a whole.\"\n",
    "        \"Your answer should be a boolean value with a value of False if the \"\n",
    "        \"answer is No or Unknown and a value of True only if the answer is Yes. \"\n",
    "    )\n",
    "    context = state[\"text\"]\n",
    "    query = (\n",
    "        \"Does this page contain a definition for either ponds or lakes?\"\n",
    "        \"A definition should specify distinguishing attributes or descriptive characteristics.\"\n",
    "        \"The definition may be for either ponds or lakes, but not other types of waterbodies.\"\n",
    "    )\n",
    "    messages = [\n",
    "            {'role': 'system', 'content': instructions},\n",
    "            {'role': 'user', 'content': context},\n",
    "            {'role': 'user', 'content': query}\n",
    "        ]\n",
    "    response: ChatResponse = chat(model=model, messages=messages, format=boolean_format)\n",
    "    return {\"definition_bool\": response_boolean_formatter(response)}\n",
    "\n",
    "\n",
    "def definition_routing(state : State):\n",
    "    return state['definition_bool']\n",
    "\n",
    "\n",
    "def extract_definition(state: State):\n",
    "    \"\"\"\n",
    "    Extract a scientific definition from the given page.\n",
    "\n",
    "    Args:\n",
    "        state (State): Current state of the chat.\n",
    "    Returns:\n",
    "        state (State): Updated state with generated response.\n",
    "    \"\"\"\n",
    "    instructions = (\n",
    "        \"You will be given contextual information from a page of a scientific research paper \"\n",
    "        \"and asked to accurately answer questions about its contents. Please answer only \"\n",
    "        \"for the information shown on the current page, and not the paper as a whole.\"\n",
    "    )\n",
    "    context = state[\"text\"]\n",
    "    query = (\n",
    "        \"What definition does the context give for either ponds or lakes?\"\n",
    "        \"A definition should specify distinguishing attributes or descriptive characteristics.\"\n",
    "        \"The definition may be for either ponds or lakes, but not other types of waterbodies.\"\n",
    "    )\n",
    "    messages = [\n",
    "            {'role': 'system', 'content': instructions},\n",
    "            {'role': 'user', 'content': context},\n",
    "            {'role': 'user', 'content': query}\n",
    "        ]\n",
    "    response: ChatResponse = chat(model=model, messages=messages)\n",
    "    return {\"definition\": response.message.content}\n",
    "\n",
    "\n",
    "def screen_table(state: State):\n",
    "    \"\"\"\n",
    "    Screen the current page for tabular data.\n",
    "\n",
    "    Args:\n",
    "        state (State): Current state of the chat.\n",
    "    Returns:\n",
    "        state (State): Updated state with generated response.\n",
    "    \"\"\"\n",
    "    instructions = (\n",
    "        \"You will be given contextual information from a page of a scientific research paper \"\n",
    "        \"and asked to accurately answer questions about its contents. Please answer only \"\n",
    "        \"for the information shown on the current page, and not the paper as a whole.\"\n",
    "        \"Your answer should be a boolean value with a value of False if the \"\n",
    "        \"answer is No or Unknown and a value of True only if the answer is Yes. \"\n",
    "    )\n",
    "    context = state[\"text\"]\n",
    "    query = (\n",
    "        \"Does this page include a table containing data related to \"\n",
    "        \"physical, chemical, or biological attributes of individual ponds or lakes?\"\n",
    "        \"Data must be reported in a table format, and should only be given for individually \"\n",
    "        \"studied ponds or lakes, instead of aggregate statistics for groups of waterbodies. \"\n",
    "        \"Examples include but are not limited to depth, surface area, temperature, or pH.\"\n",
    "    )\n",
    "\n",
    "    messages = [\n",
    "            {'role': 'system', 'content': instructions},\n",
    "            {'role': 'user', 'content': context},\n",
    "            {'role': 'user', 'content': query}\n",
    "        ]\n",
    "    response: ChatResponse = chat(model=model, messages=messages, format=boolean_format)\n",
    "    return {\"table_bool\": response_boolean_formatter(response)}\n",
    "\n",
    "\n",
    "def table_routing(state : State):\n",
    "    return state['table_bool']"
   ]
  },
  {
   "cell_type": "code",
   "execution_count": 114,
   "metadata": {},
   "outputs": [],
   "source": [
    "graph_builder = StateGraph(State)\n",
    "graph_builder.add_node(\"screen_abstract\", screen_abstract)\n",
    "graph_builder.add_node(\"screen_definition\", screen_definition)\n",
    "graph_builder.add_node(\"extract_definition\", extract_definition)\n",
    "graph_builder.add_node(\"screen_table\", screen_table)\n",
    "graph_builder.add_edge(START, \"screen_abstract\")\n",
    "graph_builder.add_conditional_edges(\n",
    "    \"screen_abstract\",\n",
    "    lambda state: state['abstract_bool'] if state.get('text') is not None else False,\n",
    "    {True: \"screen_definition\", False: END}\n",
    ")\n",
    "graph_builder.add_conditional_edges(\n",
    "    \"screen_definition\",\n",
    "    lambda state: state['definition_bool'],\n",
    "    {True : \"extract_definition\", False: \"screen_table\"}\n",
    ")\n",
    "graph_builder.add_edge(\"extract_definition\", \"screen_table\")\n",
    "graph_builder.add_edge(\"screen_table\", END)\n",
    "GRAPH = graph_builder.compile()"
   ]
  },
  {
   "cell_type": "code",
   "execution_count": 115,
   "metadata": {},
   "outputs": [],
   "source": [
    "chat_history = ChatWithHistory(llm = GRAPH)\n",
    "\n",
    "# Screen abstract:\n",
    "response = chat_history.invoke(\n",
    "    {'abstract' : doc.title_abstract},\n",
    "    identifier = {'doi' : doc.doi, 'chunk' : -1}, # -1 indicates abstract\n",
    "    ignore = ['abstract','text']\n",
    ")\n",
    "\n",
    "if response[\"abstract_bool\"]:\n",
    "    # Screen text:\n",
    "    for i,page in enumerate(doc.pages[:3]):\n",
    "        #print(f\"Processing {doc.title[:25]}... Page {i+1}/{len(doc.pages)}\")\n",
    "        response = chat_history.invoke(\n",
    "            {'text': page, 'abstract_bool': True},\n",
    "            identifier = {'doi' : doc.doi, 'chunk' : i},\n",
    "            ignore = ['abstract', 'text']\n",
    "        )"
   ]
  },
  {
   "cell_type": "code",
   "execution_count": 116,
   "metadata": {},
   "outputs": [
    {
     "data": {
      "text/plain": [
       "[{'doi': '1234', 'chunk': -1, 'abstract_bool': True},\n",
       " {'doi': '1234',\n",
       "  'chunk': 0,\n",
       "  'abstract_bool': True,\n",
       "  'definition_bool': False,\n",
       "  'table_bool': False},\n",
       " {'doi': '1234',\n",
       "  'chunk': 1,\n",
       "  'abstract_bool': True,\n",
       "  'definition_bool': False,\n",
       "  'table_bool': False},\n",
       " {'doi': '1234',\n",
       "  'chunk': 2,\n",
       "  'abstract_bool': True,\n",
       "  'definition_bool': False,\n",
       "  'table_bool': False}]"
      ]
     },
     "execution_count": 116,
     "metadata": {},
     "output_type": "execute_result"
    }
   ],
   "source": [
    "chat_history.history"
   ]
  },
  {
   "cell_type": "code",
   "execution_count": 102,
   "metadata": {},
   "outputs": [
    {
     "data": {
      "text/plain": [
       "\"## Materials and methods\\n## Study area\\nTable 1 shows the location of the 104 permanent small water bodies sampled within the following four altitudinal vegetation belts in Switzerland: colline, montane, subalpine, and alpine. They vary in size from 5 m 2 to 10 ha (Table 2), with a mean depth comprising between 15 and 910 cm. We will further refer to these small water bodies as ''ponds'', since most of them correspond to the criteria of the definition of a pond presented by Oertli et al. (2005a). Only one third of these ponds are known to have a natural origin with an age exceeding 4,000 years (last glacial retreat). The others, with\\nTable 1 Number of sampled ponds per altitudinal vegetation belt (colline (200-800 m), montane (600-1,400 m), subalpine (1,300-2,000 m), alpine ([1,800 m)) and trophic state (based on the concentration of total phosphorus (TP) and total nitrogen (TN) as described by OECD (1982) and Wetzel (1983) Colline Montane Subalpine Alpine n = total of ponds\\nOligotrophic 1 (1) 1 (1) 1 (1) 11(2) 14 (5) Mesotrophic 4 (4) 7 (7) 9 (4) 6 (1) 26 (16) Eutrophic 19 (19) 12 (11) 0 (0) 1 (0) 32 (30) Hypertrophic 20 (17) 7 (5) 4 (3) 1 (0) 32 (25) n = total of ponds 44 (41) 27 (24) 14 (8) 19 (3) 104 (76)\\nIn brackets: number of ponds of each type containing Ephemeroptera various ages (1-900 years), are artificial, linked to past or present human activities (gravel or clay extraction, fish production, nature conservation, etc.). The range of altitude is from 210 to 2,757 m. The trophic state varies between oligotrophic and hypertrophic (Table 1). Additionally, each pond was characterised with environmental and geo-morphological data (Table 2) (site details are available on request).\\n\\n## Sampling\\nEach pond was sampled once during the summer months (June to early August) from 1996 to 2005 following the PLOCH method (Oertli et al., 2005b). Mayflies were collected using a small hand-net (rectangular frame 14 9 10 cm, mesh size 0.5 mm).\\nFor each sample, the net was swept intensively through the pre-selected dominant habitats for 30 s. In all cases, the collected material was preserved in either 4% formaldehyde or 70% alcohol solutions and then sorted in the laboratory.\\nThe physico-chemistry of the water was measured during winter and summer months, as described by Oertli et al. (2000), by establishing a profile using WTW field probes down to the deepest point of the pond (to measure conductivity, pH and oxygen concentration). The transparency was additionally recorded from a surface water sample using a Snellen tube. Laboratory analyses of the content of TP and TN were made with winter water samples. TP concentrations and TN concentrations were then used to classify each pond into one of the four following trophic categories: oligotrophic, mesotrophic, eutrophic or hypertrophic, as described by the Organization for Economic Cooperation and Development (1982) and Wetzel (1983).\""
      ]
     },
     "execution_count": 102,
     "metadata": {},
     "output_type": "execute_result"
    }
   ],
   "source": [
    "doc.pages[2]"
   ]
  },
  {
   "cell_type": "code",
   "execution_count": 26,
   "metadata": {},
   "outputs": [
    {
     "data": {
      "text/html": [
       "<div>\n",
       "<style scoped>\n",
       "    .dataframe tbody tr th:only-of-type {\n",
       "        vertical-align: middle;\n",
       "    }\n",
       "\n",
       "    .dataframe tbody tr th {\n",
       "        vertical-align: top;\n",
       "    }\n",
       "\n",
       "    .dataframe thead th {\n",
       "        text-align: right;\n",
       "    }\n",
       "</style>\n",
       "<table border=\"1\" class=\"dataframe\">\n",
       "  <thead>\n",
       "    <tr style=\"text-align: right;\">\n",
       "      <th></th>\n",
       "      <th>definition_bool</th>\n",
       "      <th>definition</th>\n",
       "      <th>table_bool</th>\n",
       "    </tr>\n",
       "  </thead>\n",
       "  <tbody>\n",
       "    <tr>\n",
       "      <th>Chunk 1</th>\n",
       "      <td>True</td>\n",
       "      <td>Ponds are described as small standing waters v...</td>\n",
       "      <td>False</td>\n",
       "    </tr>\n",
       "    <tr>\n",
       "      <th>Chunk 2</th>\n",
       "      <td>False</td>\n",
       "      <td>NaN</td>\n",
       "      <td>False</td>\n",
       "    </tr>\n",
       "  </tbody>\n",
       "</table>\n",
       "</div>"
      ],
      "text/plain": [
       "         definition_bool                                         definition  \\\n",
       "Chunk 1             True  Ponds are described as small standing waters v...   \n",
       "Chunk 2            False                                                NaN   \n",
       "\n",
       "         table_bool  \n",
       "Chunk 1       False  \n",
       "Chunk 2       False  "
      ]
     },
     "execution_count": 26,
     "metadata": {},
     "output_type": "execute_result"
    }
   ],
   "source": [
    "chat.save('../experiments/data/test_history.csv')"
   ]
  },
  {
   "cell_type": "code",
   "execution_count": 34,
   "metadata": {},
   "outputs": [
    {
     "data": {
      "text/html": [
       "<div>\n",
       "<style scoped>\n",
       "    .dataframe tbody tr th:only-of-type {\n",
       "        vertical-align: middle;\n",
       "    }\n",
       "\n",
       "    .dataframe tbody tr th {\n",
       "        vertical-align: top;\n",
       "    }\n",
       "\n",
       "    .dataframe thead th {\n",
       "        text-align: right;\n",
       "    }\n",
       "</style>\n",
       "<table border=\"1\" class=\"dataframe\">\n",
       "  <thead>\n",
       "    <tr style=\"text-align: right;\">\n",
       "      <th></th>\n",
       "      <th>dinner</th>\n",
       "      <th>lunch</th>\n",
       "      <th>breakfast</th>\n",
       "      <th>brunch</th>\n",
       "    </tr>\n",
       "  </thead>\n",
       "  <tbody>\n",
       "    <tr>\n",
       "      <th>0</th>\n",
       "      <td>chicken</td>\n",
       "      <td>salad</td>\n",
       "      <td>eggs</td>\n",
       "      <td>NaN</td>\n",
       "    </tr>\n",
       "    <tr>\n",
       "      <th>1</th>\n",
       "      <td>fish</td>\n",
       "      <td>NaN</td>\n",
       "      <td>toast</td>\n",
       "      <td>soup</td>\n",
       "    </tr>\n",
       "  </tbody>\n",
       "</table>\n",
       "</div>"
      ],
      "text/plain": [
       "    dinner  lunch breakfast brunch\n",
       "0  chicken  salad      eggs    NaN\n",
       "1     fish    NaN     toast   soup"
      ]
     },
     "execution_count": 34,
     "metadata": {},
     "output_type": "execute_result"
    }
   ],
   "source": [
    "import pandas as pd\n",
    "D = {\n",
    "     0 : {'dinner': 'chicken', 'lunch': 'salad', 'breakfast': 'eggs'},\n",
    "     1 : {'dinner': 'fish', 'brunch': 'soup', 'breakfast': 'toast'}\n",
    "}\n",
    "pd.DataFrame.from_dict(D, orient='index')"
   ]
  },
  {
   "cell_type": "code",
   "execution_count": 36,
   "metadata": {},
   "outputs": [
    {
     "data": {
      "text/html": [
       "<div>\n",
       "<style scoped>\n",
       "    .dataframe tbody tr th:only-of-type {\n",
       "        vertical-align: middle;\n",
       "    }\n",
       "\n",
       "    .dataframe tbody tr th {\n",
       "        vertical-align: top;\n",
       "    }\n",
       "\n",
       "    .dataframe thead th {\n",
       "        text-align: right;\n",
       "    }\n",
       "</style>\n",
       "<table border=\"1\" class=\"dataframe\">\n",
       "  <thead>\n",
       "    <tr style=\"text-align: right;\">\n",
       "      <th></th>\n",
       "      <th>dinner</th>\n",
       "      <th>lunch</th>\n",
       "      <th>breakfast</th>\n",
       "      <th>brunch</th>\n",
       "    </tr>\n",
       "  </thead>\n",
       "  <tbody>\n",
       "    <tr>\n",
       "      <th>0</th>\n",
       "      <td>chicken</td>\n",
       "      <td>salad</td>\n",
       "      <td>eggs</td>\n",
       "      <td>NaN</td>\n",
       "    </tr>\n",
       "    <tr>\n",
       "      <th>1</th>\n",
       "      <td>fish</td>\n",
       "      <td>NaN</td>\n",
       "      <td>toast</td>\n",
       "      <td>soup</td>\n",
       "    </tr>\n",
       "  </tbody>\n",
       "</table>\n",
       "</div>"
      ],
      "text/plain": [
       "    dinner  lunch breakfast brunch\n",
       "0  chicken  salad      eggs    NaN\n",
       "1     fish    NaN     toast   soup"
      ]
     },
     "execution_count": 36,
     "metadata": {},
     "output_type": "execute_result"
    }
   ],
   "source": [
    "D = [\n",
    "    {'dinner': 'chicken', 'lunch': 'salad', 'breakfast': 'eggs'},\n",
    "    {'dinner': 'fish', 'brunch': 'soup', 'breakfast': 'toast'}\n",
    "]\n",
    "pd.DataFrame(D)"
   ]
  },
  {
   "cell_type": "code",
   "execution_count": 192,
   "metadata": {},
   "outputs": [
    {
     "data": {
      "text/html": [
       "<div>\n",
       "<style scoped>\n",
       "    .dataframe tbody tr th:only-of-type {\n",
       "        vertical-align: middle;\n",
       "    }\n",
       "\n",
       "    .dataframe tbody tr th {\n",
       "        vertical-align: top;\n",
       "    }\n",
       "\n",
       "    .dataframe thead th {\n",
       "        text-align: right;\n",
       "    }\n",
       "</style>\n",
       "<table border=\"1\" class=\"dataframe\">\n",
       "  <thead>\n",
       "    <tr style=\"text-align: right;\">\n",
       "      <th></th>\n",
       "      <th>0</th>\n",
       "    </tr>\n",
       "  </thead>\n",
       "  <tbody>\n",
       "    <tr>\n",
       "      <th>0</th>\n",
       "      <td>hello</td>\n",
       "    </tr>\n",
       "    <tr>\n",
       "      <th>1</th>\n",
       "      <td>world</td>\n",
       "    </tr>\n",
       "  </tbody>\n",
       "</table>\n",
       "</div>"
      ],
      "text/plain": [
       "       0\n",
       "0  hello\n",
       "1  world"
      ]
     },
     "execution_count": 192,
     "metadata": {},
     "output_type": "execute_result"
    }
   ],
   "source": [
    "D = [\"hello\", \"world\"]\n",
    "pd.DataFrame(D)"
   ]
  }
 ],
 "metadata": {
  "kernelspec": {
   "display_name": "systematic-review-py3.12",
   "language": "python",
   "name": "systematic-review-py3.12"
  },
  "language_info": {
   "codemirror_mode": {
    "name": "ipython",
    "version": 3
   },
   "file_extension": ".py",
   "mimetype": "text/x-python",
   "name": "python",
   "nbconvert_exporter": "python",
   "pygments_lexer": "ipython3",
   "version": "3.12.4"
  }
 },
 "nbformat": 4,
 "nbformat_minor": 2
}
