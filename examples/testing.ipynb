{
 "cells": [
  {
   "cell_type": "code",
   "execution_count": 1,
   "metadata": {},
   "outputs": [],
   "source": [
    "# Chat Models\n",
    "from huggingface_hub import hf_hub_download\n",
    "from langchain_ollama import ChatOllama\n",
    "\n",
    "# Chat structure\n",
    "from langchain_core.prompts import PromptTemplate\n",
    "from langgraph.graph import START, END, StateGraph\n",
    "\n",
    "# Typing\n",
    "from typing_extensions import TypedDict\n",
    "from pydantic import BaseModel, Field\n",
    "\n",
    "from systematic_review import *\n",
    "\n",
    "%load_ext autoreload\n",
    "%autoreload 2"
   ]
  },
  {
   "cell_type": "markdown",
   "metadata": {},
   "source": [
    "### Load PDF"
   ]
  },
  {
   "cell_type": "code",
   "execution_count": 8,
   "metadata": {},
   "outputs": [],
   "source": [
    "doc = XmlDocument()\n",
    "doc.load('../papers/processed/definitions2.grobid.tei.xml', token_size = 1000)"
   ]
  },
  {
   "cell_type": "code",
   "execution_count": 9,
   "metadata": {},
   "outputs": [
    {
     "name": "stdout",
     "output_type": "stream",
     "text": [
      "## Definitions\n",
      "'Small waterbodies' is an ambiguous term with, as yet, no universally accepted or legal definition. In this paper, we use the term to refer to ponds and small lakes, small streams including headwaters, ditches and springs. In the following section, the approaches which have been taken to derive these definitions are described.\n",
      "\n",
      "## Ponds and small lakes\n",
      "Ponds are small standing waters varying in size from 1 m 2 to about 2-5 ha in area and may be permanent or seasonal, man-made or naturally created (Pond Conservation Group, 1993;Collinson et al., 1995;Biggs et al., 2007;E.P.C.N., 2007;Cereghino et al., 2008). Although there is a long history, dating back to the nineteenth century, of attempts to define the difference between a pond and a lake (Biggs et al., 2005), large ponds and small lakes share many characteristics in terms of structure and function, and the transition zone between the two types of habitat is very gradual (Søndergaard et al., 2005;De Meester et al., 2005). Indeed, ponds merge imperceptibly into virtually all other freshwater habitat types (Biggs et al., 1997). However, for practical purposes, such as estimating waterbody numbers or comparing waterbody types, most authors have adopted a size-based classification with a size boundary somewhere between 1 and 5 ha, which can be fairly easily measured in the field (e.g. Williams et al., 2004;Kalettka & Rudat, 2006;Davies et al., 2008a, b;De Bie et al., 2008;Williams et al., 2010a). Occasionally, 'pond' studies are restricted to waters of no more than 0.5 ha (e.g. Lafitte et al., 2009) or extended to include those up to 8 m in depth or 10 ha in area (e.g. Oertli et al., 2000Oertli et al., , 2005)). The Ramsar Convention adopted a cut-off between ponds and lakes of 8 ha, although in practice this has not been widely applied by workers investigating these\n"
     ]
    }
   ],
   "source": [
    "print(doc.pages[1])"
   ]
  },
  {
   "cell_type": "markdown",
   "metadata": {},
   "source": [
    "### Language Model"
   ]
  },
  {
   "cell_type": "code",
   "execution_count": 3,
   "metadata": {},
   "outputs": [],
   "source": [
    "# Load the language model\n",
    "llm = ChatOllama(\n",
    "    model=\"gemma3:12b-it-qat\",\n",
    "    temperature=0,\n",
    "    num_ctx = 25000 # Set to 50k on SCC?\n",
    ")\n",
    "\n",
    "# Specify prompt and response formats\n",
    "prompt_template = PromptTemplate.from_template(\n",
    "    \"<start_of_turn>user\\n{instructions}<end_of_turn>\\n\"\n",
    "    \"<start_of_turn>user\\n{context}<end_of_turn>\\n\"\n",
    "    \"<start_of_turn>user\\n{query}<end_of_turn>\\n\"\n",
    "    \"<start_of_turn>model\\n\"\n",
    ")\n",
    "\n",
    "class BooleanResponse(BaseModel):\n",
    "    \"\"\"\n",
    "    Manages a structured, boolean response from a language model.\n",
    "    \"\"\"\n",
    "    content : bool = Field(\n",
    "        description = \n",
    "            \"Respond with False if the answer is No or Unknown. \"\n",
    "            \"Respond True only if the answer is Yes. \"\n",
    "    )\n",
    "\n",
    "# State for an individual paper\n",
    "class State(TypedDict):\n",
    "    context : str\n",
    "    definition_bool : bool\n",
    "    definition : str\n",
    "    table_bool : bool\n",
    "\n",
    "boolean_llm = llm.with_structured_output(schema = BooleanResponse)"
   ]
  },
  {
   "cell_type": "code",
   "execution_count": 4,
   "metadata": {},
   "outputs": [],
   "source": [
    "def screen_definition(state: State):\n",
    "    \"\"\"\n",
    "    Screen the current page for a scientific definition.\n",
    "\n",
    "    Args:\n",
    "        state (State): Current state of the chat.\n",
    "    Returns:\n",
    "        state (State): Updated state with generated response.\n",
    "    \"\"\"\n",
    "    instructions = (\n",
    "        \"You will be given contextual information from a page of a scientific research paper \"\n",
    "        \"and asked to accurately answer questions about its contents. Please answer only \"\n",
    "        \"for the information shown on the current page, and not the paper as a whole.\"\n",
    "        \"Your answer should be a boolean value with a value of False if the \"\n",
    "        \"answer is No or Unknown and a value of True only if the answer is Yes. \"\n",
    "    )\n",
    "    context = state[\"context\"]\n",
    "    query = (\n",
    "        \"Does this page contain a definition for either ponds or lakes?\"\n",
    "        \"A definition should specify distinguishing attributes or descriptive characteristics.\"\n",
    "        \"The definition may be for either ponds or lakes, but not other types of waterbodies.\"\n",
    "    )\n",
    "    messages = prompt_template.invoke(\n",
    "        {\"instructions\": instructions, \"context\": context, \"query\": query}\n",
    "    )\n",
    "    response = boolean_llm.invoke(messages)\n",
    "    return {\"definition_bool\": response.content}\n",
    "\n",
    "\n",
    "def definition_routing(state : State):\n",
    "    return state['definition_bool']\n",
    "\n",
    "\n",
    "def extract_definition(state: State):\n",
    "    \"\"\"\n",
    "    Extract a scientific definition from the given page.\n",
    "\n",
    "    Args:\n",
    "        state (State): Current state of the chat.\n",
    "    Returns:\n",
    "        state (State): Updated state with generated response.\n",
    "    \"\"\"\n",
    "    instructions = (\n",
    "        \"You will be given contextual information from a page of a scientific research paper \"\n",
    "        \"and asked to accurately answer questions about its contents. Please answer only \"\n",
    "        \"for the information shown on the current page, and not the paper as a whole.\"\n",
    "    )\n",
    "    context = state[\"context\"]\n",
    "    query = (\n",
    "        \"What definition does the context give for either ponds or lakes?\"\n",
    "        \"A definition should specify distinguishing attributes or descriptive characteristics.\"\n",
    "        \"The definition may be for either ponds or lakes, but not other types of waterbodies.\"\n",
    "    )\n",
    "    messages = prompt_template.invoke(\n",
    "        {\"instructions\": instructions, \"context\": context, \"query\": query}\n",
    "    )\n",
    "    response = llm.invoke(messages)\n",
    "    return {\"definition\": response.content}\n",
    "\n",
    "\n",
    "def screen_table(state: State):\n",
    "    \"\"\"\n",
    "    Screen the current page for tabular data.\n",
    "\n",
    "    Args:\n",
    "        state (State): Current state of the chat.\n",
    "    Returns:\n",
    "        state (State): Updated state with generated response.\n",
    "    \"\"\"\n",
    "    instructions = (\n",
    "        \"You will be given contextual information from a page of a scientific research paper \"\n",
    "        \"and asked to accurately answer questions about its contents. Please answer only \"\n",
    "        \"for the information shown on the current page, and not the paper as a whole.\"\n",
    "        \"Your answer should be a boolean value with a value of False if the \"\n",
    "        \"answer is No or Unknown and a value of True only if the answer is Yes. \"\n",
    "    )\n",
    "    context = state[\"context\"]\n",
    "    query = (\n",
    "        \"Does this page include a table containing data related to \"\n",
    "        \"physical, chemical, or biological attributes of individual ponds or lakes?\"\n",
    "        \"Data must be reported in a table format, and should only be given for individually \"\n",
    "        \"studied ponds or lakes, instead of aggregate statistics for groups of waterbodies. \"\n",
    "        \"Examples include but are not limited to depth, surface area, temperature, or pH.\"\n",
    "    )\n",
    "\n",
    "    messages = prompt_template.invoke(\n",
    "        {\"instructions\": instructions, \"context\": context, \"query\": query}\n",
    "    )\n",
    "    response = boolean_llm.invoke(messages)\n",
    "    return {\"table_bool\": response.content}\n",
    "\n",
    "\n",
    "def table_routing(state : State):\n",
    "    return state['table_bool']"
   ]
  },
  {
   "cell_type": "code",
   "execution_count": 5,
   "metadata": {},
   "outputs": [],
   "source": [
    "graph_builder = StateGraph(State)\n",
    "graph_builder.add_node(\"screen_definition\", screen_definition)\n",
    "graph_builder.add_node(\"extract_definition\", extract_definition)\n",
    "graph_builder.add_node(\"screen_table\", screen_table)\n",
    "graph_builder.add_edge(START, \"screen_definition\")\n",
    "graph_builder.add_conditional_edges(\n",
    "    \"screen_definition\",\n",
    "    definition_routing,\n",
    "    {True : \"extract_definition\", False: \"screen_table\"}\n",
    ")\n",
    "graph_builder.add_edge(\"extract_definition\", \"screen_table\")\n",
    "graph_builder.add_edge(\"screen_table\", END)\n",
    "graph = graph_builder.compile()"
   ]
  },
  {
   "cell_type": "code",
   "execution_count": 12,
   "metadata": {},
   "outputs": [
    {
     "data": {
      "text/plain": [
       "False"
      ]
     },
     "execution_count": 12,
     "metadata": {},
     "output_type": "execute_result"
    }
   ],
   "source": [
    "callable(graph)"
   ]
  },
  {
   "cell_type": "code",
   "execution_count": 25,
   "metadata": {},
   "outputs": [],
   "source": [
    "chat = ChatWithHistory(llm = graph)\n",
    "response = chat.invoke(\n",
    "    {\"context\" : doc.pages[1]}, \n",
    "    identifier = \"Chunk 1\",\n",
    "    ignore = ['context']\n",
    ")\n",
    "response = chat.invoke(\n",
    "    {\"context\" : doc.pages[2]}, \n",
    "    identifier = \"Chunk 2\",\n",
    "    ignore = ['context']\n",
    ")"
   ]
  },
  {
   "cell_type": "code",
   "execution_count": 26,
   "metadata": {},
   "outputs": [
    {
     "data": {
      "text/html": [
       "<div>\n",
       "<style scoped>\n",
       "    .dataframe tbody tr th:only-of-type {\n",
       "        vertical-align: middle;\n",
       "    }\n",
       "\n",
       "    .dataframe tbody tr th {\n",
       "        vertical-align: top;\n",
       "    }\n",
       "\n",
       "    .dataframe thead th {\n",
       "        text-align: right;\n",
       "    }\n",
       "</style>\n",
       "<table border=\"1\" class=\"dataframe\">\n",
       "  <thead>\n",
       "    <tr style=\"text-align: right;\">\n",
       "      <th></th>\n",
       "      <th>definition_bool</th>\n",
       "      <th>definition</th>\n",
       "      <th>table_bool</th>\n",
       "    </tr>\n",
       "  </thead>\n",
       "  <tbody>\n",
       "    <tr>\n",
       "      <th>Chunk 1</th>\n",
       "      <td>True</td>\n",
       "      <td>Ponds are described as small standing waters v...</td>\n",
       "      <td>False</td>\n",
       "    </tr>\n",
       "    <tr>\n",
       "      <th>Chunk 2</th>\n",
       "      <td>False</td>\n",
       "      <td>NaN</td>\n",
       "      <td>False</td>\n",
       "    </tr>\n",
       "  </tbody>\n",
       "</table>\n",
       "</div>"
      ],
      "text/plain": [
       "         definition_bool                                         definition  \\\n",
       "Chunk 1             True  Ponds are described as small standing waters v...   \n",
       "Chunk 2            False                                                NaN   \n",
       "\n",
       "         table_bool  \n",
       "Chunk 1       False  \n",
       "Chunk 2       False  "
      ]
     },
     "execution_count": 26,
     "metadata": {},
     "output_type": "execute_result"
    }
   ],
   "source": [
    "chat.save('../experiments/data/test_history.csv')"
   ]
  },
  {
   "cell_type": "code",
   "execution_count": 196,
   "metadata": {},
   "outputs": [
    {
     "data": {
      "text/html": [
       "<div>\n",
       "<style scoped>\n",
       "    .dataframe tbody tr th:only-of-type {\n",
       "        vertical-align: middle;\n",
       "    }\n",
       "\n",
       "    .dataframe tbody tr th {\n",
       "        vertical-align: top;\n",
       "    }\n",
       "\n",
       "    .dataframe thead th {\n",
       "        text-align: right;\n",
       "    }\n",
       "</style>\n",
       "<table border=\"1\" class=\"dataframe\">\n",
       "  <thead>\n",
       "    <tr style=\"text-align: right;\">\n",
       "      <th></th>\n",
       "      <th>dinner</th>\n",
       "      <th>lunch</th>\n",
       "      <th>breakfast</th>\n",
       "      <th>brunch</th>\n",
       "    </tr>\n",
       "  </thead>\n",
       "  <tbody>\n",
       "    <tr>\n",
       "      <th>0</th>\n",
       "      <td>chicken</td>\n",
       "      <td>salad</td>\n",
       "      <td>eggs</td>\n",
       "      <td>NaN</td>\n",
       "    </tr>\n",
       "    <tr>\n",
       "      <th>1</th>\n",
       "      <td>fish</td>\n",
       "      <td>NaN</td>\n",
       "      <td>toast</td>\n",
       "      <td>soup</td>\n",
       "    </tr>\n",
       "  </tbody>\n",
       "</table>\n",
       "</div>"
      ],
      "text/plain": [
       "    dinner  lunch breakfast brunch\n",
       "0  chicken  salad      eggs    NaN\n",
       "1     fish    NaN     toast   soup"
      ]
     },
     "execution_count": 196,
     "metadata": {},
     "output_type": "execute_result"
    }
   ],
   "source": [
    "import pandas as pd\n",
    "D = {\n",
    "     0 : {'dinner': 'chicken', 'lunch': 'salad', 'breakfast': 'eggs'},\n",
    "     1 : {'dinner': 'fish', 'brunch': 'soup', 'breakfast': 'toast'}\n",
    "}\n",
    "pd.DataFrame.from_dict(D, orient='index')"
   ]
  },
  {
   "cell_type": "code",
   "execution_count": 192,
   "metadata": {},
   "outputs": [
    {
     "data": {
      "text/html": [
       "<div>\n",
       "<style scoped>\n",
       "    .dataframe tbody tr th:only-of-type {\n",
       "        vertical-align: middle;\n",
       "    }\n",
       "\n",
       "    .dataframe tbody tr th {\n",
       "        vertical-align: top;\n",
       "    }\n",
       "\n",
       "    .dataframe thead th {\n",
       "        text-align: right;\n",
       "    }\n",
       "</style>\n",
       "<table border=\"1\" class=\"dataframe\">\n",
       "  <thead>\n",
       "    <tr style=\"text-align: right;\">\n",
       "      <th></th>\n",
       "      <th>0</th>\n",
       "    </tr>\n",
       "  </thead>\n",
       "  <tbody>\n",
       "    <tr>\n",
       "      <th>0</th>\n",
       "      <td>hello</td>\n",
       "    </tr>\n",
       "    <tr>\n",
       "      <th>1</th>\n",
       "      <td>world</td>\n",
       "    </tr>\n",
       "  </tbody>\n",
       "</table>\n",
       "</div>"
      ],
      "text/plain": [
       "       0\n",
       "0  hello\n",
       "1  world"
      ]
     },
     "execution_count": 192,
     "metadata": {},
     "output_type": "execute_result"
    }
   ],
   "source": [
    "D = [\"hello\", \"world\"]\n",
    "pd.DataFrame(D)"
   ]
  }
 ],
 "metadata": {
  "kernelspec": {
   "display_name": "systematic-review-py3.12",
   "language": "python",
   "name": "systematic-review-py3.12"
  },
  "language_info": {
   "codemirror_mode": {
    "name": "ipython",
    "version": 3
   },
   "file_extension": ".py",
   "mimetype": "text/x-python",
   "name": "python",
   "nbconvert_exporter": "python",
   "pygments_lexer": "ipython3",
   "version": "3.12.4"
  }
 },
 "nbformat": 4,
 "nbformat_minor": 2
}
