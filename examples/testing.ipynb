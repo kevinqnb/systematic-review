{
 "cells": [
  {
   "cell_type": "code",
   "execution_count": 1,
   "metadata": {},
   "outputs": [],
   "source": [
    "# Chat Models\n",
    "from huggingface_hub import hf_hub_download\n",
    "from langchain_ollama import ChatOllama\n",
    "\n",
    "# Chat structure\n",
    "from langchain_core.prompts import PromptTemplate\n",
    "from langgraph.graph import START, END, StateGraph\n",
    "\n",
    "# Typing\n",
    "from typing_extensions import TypedDict\n",
    "from pydantic import BaseModel, Field\n",
    "\n",
    "from systematic_review import *\n",
    "\n",
    "%load_ext autoreload\n",
    "%autoreload 2"
   ]
  },
  {
   "cell_type": "code",
   "execution_count": 4,
   "metadata": {},
   "outputs": [],
   "source": [
    "from lxml import etree\n",
    "\n",
    "filepath = \"../collection/examples/processed/ponds1.grobid.tei.xml\"\n",
    "tree = etree.parse(filepath)\n",
    "root = tree.getroot()\n",
    "ns = {\n",
    "                'tei': 'http://www.tei-c.org/ns/1.0',\n",
    "                'xlink': 'http://www.w3.org/1999/xlink',\n",
    "                'xsi': 'http://www.w3.org/2001/XMLSchema-instance',\n",
    "            }"
   ]
  },
  {
   "cell_type": "code",
   "execution_count": 5,
   "metadata": {},
   "outputs": [
    {
     "data": {
      "text/plain": [
       "[]"
      ]
     },
     "execution_count": 5,
     "metadata": {},
     "output_type": "execute_result"
    }
   ],
   "source": [
    "root.findall('.//tei:blargus', ns)"
   ]
  },
  {
   "cell_type": "code",
   "execution_count": 23,
   "metadata": {},
   "outputs": [],
   "source": [
    "s = get_filenames_in_directory('../collection/examples/processed/')"
   ]
  },
  {
   "cell_type": "code",
   "execution_count": 24,
   "metadata": {},
   "outputs": [
    {
     "data": {
      "text/plain": [
       "'ponds3'"
      ]
     },
     "execution_count": 24,
     "metadata": {},
     "output_type": "execute_result"
    }
   ],
   "source": [
    "s[0].partition('.grobid')[0]"
   ]
  },
  {
   "cell_type": "code",
   "execution_count": 25,
   "metadata": {},
   "outputs": [
    {
     "data": {
      "text/plain": [
       "['ponds3.grobid.tei.xml',\n",
       " 'lakes3.grobid.tei.xml',\n",
       " 'lakes2.grobid.tei.xml',\n",
       " 'fake1.grobid.tei.xml',\n",
       " 'ponds2.grobid.tei.xml',\n",
       " 'fake3.grobid.tei.xml',\n",
       " 'fake2.grobid.tei.xml',\n",
       " 'lakes1.grobid.tei.xml',\n",
       " 'ponds1.grobid.tei.xml',\n",
       " 'definitions1.grobid.tei.xml',\n",
       " 'definitions3.grobid.tei.xml',\n",
       " 'definitions2.grobid.tei.xml']"
      ]
     },
     "execution_count": 25,
     "metadata": {},
     "output_type": "execute_result"
    }
   ],
   "source": [
    "s"
   ]
  },
  {
   "cell_type": "markdown",
   "metadata": {},
   "source": [
    "### Load PDF"
   ]
  },
  {
   "cell_type": "code",
   "execution_count": 12,
   "metadata": {},
   "outputs": [],
   "source": [
    "doc = XmlDocument(doi = '1234')\n",
    "doc.load('../collection/examples/processed/definitions2.grobid.tei.xml', token_size = 1000)"
   ]
  },
  {
   "cell_type": "code",
   "execution_count": 16,
   "metadata": {},
   "outputs": [
    {
     "name": "stdout",
     "output_type": "stream",
     "text": [
      "# The importance of small waterbodies for biodiversity and ecosystem services: implications for policy makers\n",
      "## Abstract\n",
      "Small waterbodies, including ponds and small lakes, low-order streams, ditches and springs, are the most numerous freshwater environments globally, are critical for freshwater biodiversity and are increasingly recognised for their role in ecosystem service delivery. Small waters often represent the best remaining examples of intact freshwater habitats and are the most likely to remain unpolluted, often being a refuge for species which have disappeared from larger, more damaged, waterbodies. Practically all waterrelated ecosystem services are initially mediated by small waters and some, such as carbon cycling, may be dominated by them. Small waters are exposed to all the threats affecting larger waters, and some experienced only by small waters. Despite this, small waters remain the least investigated part of the water environment and are largely excluded from water management planning. We identify the priorities for research to underpin better protection of small waters and recommend policy actions needed to better integrate small waters into the management of catchments and landscapes. The primary requirements are to identify reliable monitoring programmes for small waters, develop effective measures to protect the biodiversity and ecosystem services they provide and ensure that regulators take full account of this critical part of the water environment.\n",
      "\n",
      "\n"
     ]
    }
   ],
   "source": [
    "print(doc.title_abstract)"
   ]
  },
  {
   "cell_type": "code",
   "execution_count": 10,
   "metadata": {},
   "outputs": [
    {
     "name": "stdout",
     "output_type": "stream",
     "text": [
      "## Springs\n",
      "Hydrologically, springs are defined as strictly delimited places where the groundwater emerges at the surface (Cantonati et al., 2006). They can also be seen as points of natural, concentrated discharge of groundwater, at a rate high enough to maintain flow on the surface (van Everdingen, 1991). The German Institute for Norms (DIN) precisely defines a spring as a ''spatially restricted groundwater emergence, which at least temporally leads to a superficial discharge'' (DIN, 1994). This definition also includes anthropogenically modified springs such as wells. Geohydrological spring types, such as overflow springs or artesian springs, are distinguished depending on the geology and the characteristics of the aquifer (Martin et al., 2015). In general, the aquifer is the storage body of water gained by precipitation and lost by spring flow after a certain time lag (Glazier, 2014). Depending on the geology, storage times in the aquifer differ considerably from a few hours to over 10,000 years (Glazier, 2014).\n",
      "From an ecological perspective, springs are ecotones at the interface between surface water and groundwater (Webb et al., 1998;Cantonati et al., 2006). Since the start of spring research at the beginning of the twentieth century, it has almost been a paradigm that springs are stable habitats providing the biota, such as macroinvertebrates, with relatively constant abiotic conditions (e.g. Thienemann, 1926;Nielsen, 1950). Thermal stability in particular was identified as a key factor characterising springs fed by deep groundwater (e.g. Illies, 1952;Minshall, 1968;van der Kamp, 1995). More recent spring research has revealed doubts about this apparent stability (Fischer et al., 1998;Gra ¨sle & Beierkuhnlein, 1999). However, at least for lowland springs and springs in low mountain ranges, low temperature variability indeed seems to be an indicator for separating the springhead, the actual spring, from the adjacent springbrook (Erman & Erman, 1995;Von Fumetti et al., 2007).\n"
     ]
    }
   ],
   "source": [
    "print(doc.pages[4])"
   ]
  },
  {
   "cell_type": "code",
   "execution_count": 11,
   "metadata": {},
   "outputs": [
    {
     "data": {
      "text/plain": [
       "27"
      ]
     },
     "execution_count": 11,
     "metadata": {},
     "output_type": "execute_result"
    }
   ],
   "source": [
    "len(doc.pages)"
   ]
  },
  {
   "cell_type": "markdown",
   "metadata": {},
   "source": [
    "### Language Model"
   ]
  },
  {
   "cell_type": "code",
   "execution_count": 27,
   "metadata": {},
   "outputs": [],
   "source": [
    "# Load the language model\n",
    "llm = ChatOllama(\n",
    "    model=\"gemma3:12b-it-qat\",\n",
    "    temperature=0,\n",
    "    num_ctx = 25000 # Set to 50k on SCC?\n",
    ")\n",
    "\n",
    "# Specify prompt and response formats\n",
    "prompt_template = PromptTemplate.from_template(\n",
    "    \"<start_of_turn>user\\n{instructions}<end_of_turn>\\n\"\n",
    "    \"<start_of_turn>user\\n{context}<end_of_turn>\\n\"\n",
    "    \"<start_of_turn>user\\n{query}<end_of_turn>\\n\"\n",
    "    \"<start_of_turn>model\\n\"\n",
    ")\n",
    "\n",
    "class BooleanResponse(BaseModel):\n",
    "    \"\"\"\n",
    "    Manages a structured, boolean response from a language model.\n",
    "    \"\"\"\n",
    "    content : bool = Field(\n",
    "        description = \n",
    "            \"Respond with False if the answer is No or Unknown. \"\n",
    "            \"Respond True only if the answer is Yes. \"\n",
    "    )\n",
    "\n",
    "# State for an individual paper\n",
    "class State(TypedDict):\n",
    "    context : str\n",
    "    definition_bool : bool\n",
    "    definition : str\n",
    "    table_bool : bool\n",
    "\n",
    "boolean_llm = llm.with_structured_output(schema = BooleanResponse)"
   ]
  },
  {
   "cell_type": "code",
   "execution_count": 28,
   "metadata": {},
   "outputs": [],
   "source": [
    "def screen_definition(state: State):\n",
    "    \"\"\"\n",
    "    Screen the current page for a scientific definition.\n",
    "\n",
    "    Args:\n",
    "        state (State): Current state of the chat.\n",
    "    Returns:\n",
    "        state (State): Updated state with generated response.\n",
    "    \"\"\"\n",
    "    instructions = (\n",
    "        \"You will be given contextual information from a page of a scientific research paper \"\n",
    "        \"and asked to accurately answer questions about its contents. Please answer only \"\n",
    "        \"for the information shown on the current page, and not the paper as a whole.\"\n",
    "        \"Your answer should be a boolean value with a value of False if the \"\n",
    "        \"answer is No or Unknown and a value of True only if the answer is Yes. \"\n",
    "    )\n",
    "    context = state[\"context\"]\n",
    "    query = (\n",
    "        \"Does this page contain a definition for either ponds or lakes?\"\n",
    "        \"A definition should specify distinguishing attributes or descriptive characteristics.\"\n",
    "        \"The definition may be for either ponds or lakes, but not other types of waterbodies.\"\n",
    "    )\n",
    "    messages = prompt_template.invoke(\n",
    "        {\"instructions\": instructions, \"context\": context, \"query\": query}\n",
    "    )\n",
    "    response = boolean_llm.invoke(messages)\n",
    "    return {\"definition_bool\": response.content}\n",
    "\n",
    "\n",
    "def definition_routing(state : State):\n",
    "    return state['definition_bool']\n",
    "\n",
    "\n",
    "def extract_definition(state: State):\n",
    "    \"\"\"\n",
    "    Extract a scientific definition from the given page.\n",
    "\n",
    "    Args:\n",
    "        state (State): Current state of the chat.\n",
    "    Returns:\n",
    "        state (State): Updated state with generated response.\n",
    "    \"\"\"\n",
    "    instructions = (\n",
    "        \"You will be given contextual information from a page of a scientific research paper \"\n",
    "        \"and asked to accurately answer questions about its contents. Please answer only \"\n",
    "        \"for the information shown on the current page, and not the paper as a whole.\"\n",
    "    )\n",
    "    context = state[\"context\"]\n",
    "    query = (\n",
    "        \"What definition does the context give for either ponds or lakes?\"\n",
    "        \"A definition should specify distinguishing attributes or descriptive characteristics.\"\n",
    "        \"The definition may be for either ponds or lakes, but not other types of waterbodies.\"\n",
    "    )\n",
    "    messages = prompt_template.invoke(\n",
    "        {\"instructions\": instructions, \"context\": context, \"query\": query}\n",
    "    )\n",
    "    response = llm.invoke(messages)\n",
    "    return {\"definition\": response.content}\n",
    "\n",
    "\n",
    "def screen_table(state: State):\n",
    "    \"\"\"\n",
    "    Screen the current page for tabular data.\n",
    "\n",
    "    Args:\n",
    "        state (State): Current state of the chat.\n",
    "    Returns:\n",
    "        state (State): Updated state with generated response.\n",
    "    \"\"\"\n",
    "    instructions = (\n",
    "        \"You will be given contextual information from a page of a scientific research paper \"\n",
    "        \"and asked to accurately answer questions about its contents. Please answer only \"\n",
    "        \"for the information shown on the current page, and not the paper as a whole.\"\n",
    "        \"Your answer should be a boolean value with a value of False if the \"\n",
    "        \"answer is No or Unknown and a value of True only if the answer is Yes. \"\n",
    "    )\n",
    "    context = state[\"context\"]\n",
    "    query = (\n",
    "        \"Does this page include a table containing data related to \"\n",
    "        \"physical, chemical, or biological attributes of individual ponds or lakes?\"\n",
    "        \"Data must be reported in a table format, and should only be given for individually \"\n",
    "        \"studied ponds or lakes, instead of aggregate statistics for groups of waterbodies. \"\n",
    "        \"Examples include but are not limited to depth, surface area, temperature, or pH.\"\n",
    "    )\n",
    "\n",
    "    messages = prompt_template.invoke(\n",
    "        {\"instructions\": instructions, \"context\": context, \"query\": query}\n",
    "    )\n",
    "    response = boolean_llm.invoke(messages)\n",
    "    return {\"table_bool\": response.content}\n",
    "\n",
    "\n",
    "def table_routing(state : State):\n",
    "    return state['table_bool']"
   ]
  },
  {
   "cell_type": "code",
   "execution_count": 29,
   "metadata": {},
   "outputs": [],
   "source": [
    "graph_builder = StateGraph(State)\n",
    "graph_builder.add_node(\"screen_definition\", screen_definition)\n",
    "graph_builder.add_node(\"extract_definition\", extract_definition)\n",
    "graph_builder.add_node(\"screen_table\", screen_table)\n",
    "graph_builder.add_edge(START, \"screen_definition\")\n",
    "graph_builder.add_conditional_edges(\n",
    "    \"screen_definition\",\n",
    "    definition_routing,\n",
    "    {True : \"extract_definition\", False: \"screen_table\"}\n",
    ")\n",
    "graph_builder.add_edge(\"extract_definition\", \"screen_table\")\n",
    "graph_builder.add_edge(\"screen_table\", END)\n",
    "graph = graph_builder.compile()"
   ]
  },
  {
   "cell_type": "code",
   "execution_count": 12,
   "metadata": {},
   "outputs": [
    {
     "data": {
      "text/plain": [
       "False"
      ]
     },
     "execution_count": 12,
     "metadata": {},
     "output_type": "execute_result"
    }
   ],
   "source": [
    "callable(graph)"
   ]
  },
  {
   "cell_type": "code",
   "execution_count": 30,
   "metadata": {},
   "outputs": [],
   "source": [
    "chat = ChatWithHistory(llm = graph)\n",
    "response = chat.invoke(\n",
    "    {\"context\" : doc.pages[1]}, \n",
    "    identifier = \"Chunk 1\",\n",
    "    ignore = ['context']\n",
    ")\n",
    "response = chat.invoke(\n",
    "    {\"context\" : doc.pages[2]}, \n",
    "    identifier = \"Chunk 2\",\n",
    "    ignore = ['context']\n",
    ")"
   ]
  },
  {
   "cell_type": "code",
   "execution_count": 33,
   "metadata": {},
   "outputs": [
    {
     "data": {
      "text/plain": [
       "False"
      ]
     },
     "execution_count": 33,
     "metadata": {},
     "output_type": "execute_result"
    }
   ],
   "source": [
    "response[\"definition_bool\"]"
   ]
  },
  {
   "cell_type": "code",
   "execution_count": 26,
   "metadata": {},
   "outputs": [
    {
     "data": {
      "text/html": [
       "<div>\n",
       "<style scoped>\n",
       "    .dataframe tbody tr th:only-of-type {\n",
       "        vertical-align: middle;\n",
       "    }\n",
       "\n",
       "    .dataframe tbody tr th {\n",
       "        vertical-align: top;\n",
       "    }\n",
       "\n",
       "    .dataframe thead th {\n",
       "        text-align: right;\n",
       "    }\n",
       "</style>\n",
       "<table border=\"1\" class=\"dataframe\">\n",
       "  <thead>\n",
       "    <tr style=\"text-align: right;\">\n",
       "      <th></th>\n",
       "      <th>definition_bool</th>\n",
       "      <th>definition</th>\n",
       "      <th>table_bool</th>\n",
       "    </tr>\n",
       "  </thead>\n",
       "  <tbody>\n",
       "    <tr>\n",
       "      <th>Chunk 1</th>\n",
       "      <td>True</td>\n",
       "      <td>Ponds are described as small standing waters v...</td>\n",
       "      <td>False</td>\n",
       "    </tr>\n",
       "    <tr>\n",
       "      <th>Chunk 2</th>\n",
       "      <td>False</td>\n",
       "      <td>NaN</td>\n",
       "      <td>False</td>\n",
       "    </tr>\n",
       "  </tbody>\n",
       "</table>\n",
       "</div>"
      ],
      "text/plain": [
       "         definition_bool                                         definition  \\\n",
       "Chunk 1             True  Ponds are described as small standing waters v...   \n",
       "Chunk 2            False                                                NaN   \n",
       "\n",
       "         table_bool  \n",
       "Chunk 1       False  \n",
       "Chunk 2       False  "
      ]
     },
     "execution_count": 26,
     "metadata": {},
     "output_type": "execute_result"
    }
   ],
   "source": [
    "chat.save('../experiments/data/test_history.csv')"
   ]
  },
  {
   "cell_type": "code",
   "execution_count": 34,
   "metadata": {},
   "outputs": [
    {
     "data": {
      "text/html": [
       "<div>\n",
       "<style scoped>\n",
       "    .dataframe tbody tr th:only-of-type {\n",
       "        vertical-align: middle;\n",
       "    }\n",
       "\n",
       "    .dataframe tbody tr th {\n",
       "        vertical-align: top;\n",
       "    }\n",
       "\n",
       "    .dataframe thead th {\n",
       "        text-align: right;\n",
       "    }\n",
       "</style>\n",
       "<table border=\"1\" class=\"dataframe\">\n",
       "  <thead>\n",
       "    <tr style=\"text-align: right;\">\n",
       "      <th></th>\n",
       "      <th>dinner</th>\n",
       "      <th>lunch</th>\n",
       "      <th>breakfast</th>\n",
       "      <th>brunch</th>\n",
       "    </tr>\n",
       "  </thead>\n",
       "  <tbody>\n",
       "    <tr>\n",
       "      <th>0</th>\n",
       "      <td>chicken</td>\n",
       "      <td>salad</td>\n",
       "      <td>eggs</td>\n",
       "      <td>NaN</td>\n",
       "    </tr>\n",
       "    <tr>\n",
       "      <th>1</th>\n",
       "      <td>fish</td>\n",
       "      <td>NaN</td>\n",
       "      <td>toast</td>\n",
       "      <td>soup</td>\n",
       "    </tr>\n",
       "  </tbody>\n",
       "</table>\n",
       "</div>"
      ],
      "text/plain": [
       "    dinner  lunch breakfast brunch\n",
       "0  chicken  salad      eggs    NaN\n",
       "1     fish    NaN     toast   soup"
      ]
     },
     "execution_count": 34,
     "metadata": {},
     "output_type": "execute_result"
    }
   ],
   "source": [
    "import pandas as pd\n",
    "D = {\n",
    "     0 : {'dinner': 'chicken', 'lunch': 'salad', 'breakfast': 'eggs'},\n",
    "     1 : {'dinner': 'fish', 'brunch': 'soup', 'breakfast': 'toast'}\n",
    "}\n",
    "pd.DataFrame.from_dict(D, orient='index')"
   ]
  },
  {
   "cell_type": "code",
   "execution_count": 36,
   "metadata": {},
   "outputs": [
    {
     "data": {
      "text/html": [
       "<div>\n",
       "<style scoped>\n",
       "    .dataframe tbody tr th:only-of-type {\n",
       "        vertical-align: middle;\n",
       "    }\n",
       "\n",
       "    .dataframe tbody tr th {\n",
       "        vertical-align: top;\n",
       "    }\n",
       "\n",
       "    .dataframe thead th {\n",
       "        text-align: right;\n",
       "    }\n",
       "</style>\n",
       "<table border=\"1\" class=\"dataframe\">\n",
       "  <thead>\n",
       "    <tr style=\"text-align: right;\">\n",
       "      <th></th>\n",
       "      <th>dinner</th>\n",
       "      <th>lunch</th>\n",
       "      <th>breakfast</th>\n",
       "      <th>brunch</th>\n",
       "    </tr>\n",
       "  </thead>\n",
       "  <tbody>\n",
       "    <tr>\n",
       "      <th>0</th>\n",
       "      <td>chicken</td>\n",
       "      <td>salad</td>\n",
       "      <td>eggs</td>\n",
       "      <td>NaN</td>\n",
       "    </tr>\n",
       "    <tr>\n",
       "      <th>1</th>\n",
       "      <td>fish</td>\n",
       "      <td>NaN</td>\n",
       "      <td>toast</td>\n",
       "      <td>soup</td>\n",
       "    </tr>\n",
       "  </tbody>\n",
       "</table>\n",
       "</div>"
      ],
      "text/plain": [
       "    dinner  lunch breakfast brunch\n",
       "0  chicken  salad      eggs    NaN\n",
       "1     fish    NaN     toast   soup"
      ]
     },
     "execution_count": 36,
     "metadata": {},
     "output_type": "execute_result"
    }
   ],
   "source": [
    "D = [\n",
    "    {'dinner': 'chicken', 'lunch': 'salad', 'breakfast': 'eggs'},\n",
    "    {'dinner': 'fish', 'brunch': 'soup', 'breakfast': 'toast'}\n",
    "]\n",
    "pd.DataFrame(D)"
   ]
  },
  {
   "cell_type": "code",
   "execution_count": 192,
   "metadata": {},
   "outputs": [
    {
     "data": {
      "text/html": [
       "<div>\n",
       "<style scoped>\n",
       "    .dataframe tbody tr th:only-of-type {\n",
       "        vertical-align: middle;\n",
       "    }\n",
       "\n",
       "    .dataframe tbody tr th {\n",
       "        vertical-align: top;\n",
       "    }\n",
       "\n",
       "    .dataframe thead th {\n",
       "        text-align: right;\n",
       "    }\n",
       "</style>\n",
       "<table border=\"1\" class=\"dataframe\">\n",
       "  <thead>\n",
       "    <tr style=\"text-align: right;\">\n",
       "      <th></th>\n",
       "      <th>0</th>\n",
       "    </tr>\n",
       "  </thead>\n",
       "  <tbody>\n",
       "    <tr>\n",
       "      <th>0</th>\n",
       "      <td>hello</td>\n",
       "    </tr>\n",
       "    <tr>\n",
       "      <th>1</th>\n",
       "      <td>world</td>\n",
       "    </tr>\n",
       "  </tbody>\n",
       "</table>\n",
       "</div>"
      ],
      "text/plain": [
       "       0\n",
       "0  hello\n",
       "1  world"
      ]
     },
     "execution_count": 192,
     "metadata": {},
     "output_type": "execute_result"
    }
   ],
   "source": [
    "D = [\"hello\", \"world\"]\n",
    "pd.DataFrame(D)"
   ]
  }
 ],
 "metadata": {
  "kernelspec": {
   "display_name": "systematic-review-py3.12",
   "language": "python",
   "name": "systematic-review-py3.12"
  },
  "language_info": {
   "codemirror_mode": {
    "name": "ipython",
    "version": 3
   },
   "file_extension": ".py",
   "mimetype": "text/x-python",
   "name": "python",
   "nbconvert_exporter": "python",
   "pygments_lexer": "ipython3",
   "version": "3.12.4"
  }
 },
 "nbformat": 4,
 "nbformat_minor": 2
}
