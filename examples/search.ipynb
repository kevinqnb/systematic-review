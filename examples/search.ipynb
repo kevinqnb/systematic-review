{
 "cells": [
  {
   "cell_type": "code",
   "execution_count": 1,
   "id": "e3d063dc",
   "metadata": {},
   "outputs": [],
   "source": [
    "from semanticscholar import SemanticScholar"
   ]
  },
  {
   "cell_type": "code",
   "execution_count": 2,
   "id": "c3a8b9ad",
   "metadata": {},
   "outputs": [
    {
     "name": "stdout",
     "output_type": "stream",
     "text": [
      "The interaction of regional and local drivers shapes summer ecosystem metabolism in lakes across Canada\n"
     ]
    }
   ],
   "source": [
    "sch = SemanticScholar()\n",
    "paper = sch.get_paper('10.1002/lno.70095')\n",
    "print(paper.title)"
   ]
  },
  {
   "cell_type": "code",
   "execution_count": 4,
   "id": "6ea503d9",
   "metadata": {},
   "outputs": [
    {
     "data": {
      "text/plain": [
       "['paperId',\n",
       " 'externalIds',\n",
       " 'corpusId',\n",
       " 'publicationVenue',\n",
       " 'url',\n",
       " 'title',\n",
       " 'venue',\n",
       " 'year',\n",
       " 'referenceCount',\n",
       " 'citationCount',\n",
       " 'influentialCitationCount',\n",
       " 'isOpenAccess',\n",
       " 'openAccessPdf',\n",
       " 'fieldsOfStudy',\n",
       " 's2FieldsOfStudy',\n",
       " 'tldr',\n",
       " 'publicationTypes',\n",
       " 'publicationDate',\n",
       " 'journal',\n",
       " 'citationStyles',\n",
       " 'embedding',\n",
       " 'authors',\n",
       " 'citations',\n",
       " 'abstract',\n",
       " 'references']"
      ]
     },
     "execution_count": 4,
     "metadata": {},
     "output_type": "execute_result"
    }
   ],
   "source": [
    "list(paper.raw_data.keys())"
   ]
  },
  {
   "cell_type": "code",
   "execution_count": 6,
   "id": "cd8c02c4",
   "metadata": {},
   "outputs": [
    {
     "data": {
      "text/plain": [
       "False"
      ]
     },
     "execution_count": 6,
     "metadata": {},
     "output_type": "execute_result"
    }
   ],
   "source": [
    "paper.raw_data['isOpenAccess']"
   ]
  },
  {
   "cell_type": "code",
   "execution_count": 5,
   "id": "bf1b5995",
   "metadata": {},
   "outputs": [
    {
     "data": {
      "text/plain": [
       "{'url': '',\n",
       " 'status': None,\n",
       " 'license': None,\n",
       " 'disclaimer': 'Notice: This content is from the open access paper or abstract available at https://api.unpaywall.org/v2/10.1002/lno.70095?email=<INSERT_YOUR_EMAIL> or https://doi.org/10.1002/lno.70095, which is subject to the license by the author or copyright owner provided with this content. Please go to the source to verify the license and copyright information for your use.'}"
      ]
     },
     "execution_count": 5,
     "metadata": {},
     "output_type": "execute_result"
    }
   ],
   "source": [
    "paper.raw_data['openAccessPdf']"
   ]
  },
  {
   "cell_type": "code",
   "execution_count": 10,
   "id": "d3b1b137",
   "metadata": {},
   "outputs": [
    {
     "data": {
      "text/plain": [
       "'10.1002/lno.70095'"
      ]
     },
     "execution_count": 10,
     "metadata": {},
     "output_type": "execute_result"
    }
   ],
   "source": [
    "paper.raw_data['externalIds']['DOI']"
   ]
  },
  {
   "cell_type": "code",
   "execution_count": null,
   "id": "2aaa0845",
   "metadata": {},
   "outputs": [],
   "source": [
    "https://www.semanticscholar.org/venue?name=Limnology%20and%20Oceanography"
   ]
  },
  {
   "cell_type": "code",
   "execution_count": 6,
   "id": "9377ba08",
   "metadata": {},
   "outputs": [],
   "source": [
    "sch = SemanticScholar()\n",
    "response = sch.search_paper(\n",
    "    query=\"\",\n",
    "    bulk = True,\n",
    "    sort='publicationDate:desc',\n",
    "    venue=['Limnology and Oceanography'],\n",
    "    limit=100\n",
    ")"
   ]
  },
  {
   "cell_type": "code",
   "execution_count": 7,
   "id": "0e0e1ce2",
   "metadata": {},
   "outputs": [
    {
     "data": {
      "text/plain": [
       "1000"
      ]
     },
     "execution_count": 7,
     "metadata": {},
     "output_type": "execute_result"
    }
   ],
   "source": [
    "len(response)"
   ]
  },
  {
   "cell_type": "code",
   "execution_count": 65,
   "id": "15098099",
   "metadata": {},
   "outputs": [
    {
     "name": "stdout",
     "output_type": "stream",
     "text": [
      "A new dynamic distribution model for Antarctic krill reveals interactions with their environment, predators, and the commercial fishery in the south Scotia Sea region\n",
      "Limnology and Oceanography\n",
      "\n",
      "The management strategy for the Antarctic krill (Euphausia superba) fishery is being revised. A key aim is to spatially and temporally allocate catches in a manner that minimizes impacts to both the krill stock and dependent predators. This process requires spatial information on the distribution and abundance of krill, yet gaps exist for an important fishing area surrounding the South Orkney Islands in the south Scotia Sea. To fill this need, we create a dynamic distribution model for krill in this region. We used data from a spatially and temporally consistent acoustic survey (2011–2020) and year‐specific environmental covariates within a two‐part hurdle model. The model successfully captured observed spatial and temporal patterns in krill density. The covariates found to be most important included distance from shelf break, distance from summer sea ice extent, and salinity. The northern and eastern shelf edges of the South Orkney Islands were areas of consistently high krill density and displayed strong spatial overlap between intense fishing activity and foraging chinstrap penguins. High mean krill density was also linked to oceanographic features located within the Weddell Sea. Our data suggest that years in which these features were closer to the South Orkney shelf were also years of positive Southern Annular Mode and higher observed krill densities. Our findings highlight existing fishery–predator–prey overlap in the region and support the hypothesis that Weddell Sea oceanography may play a role in transporting krill into this region. These results will feed into the next phase of krill fisheries management assessment.\n"
     ]
    }
   ],
   "source": [
    "i = 100\n",
    "print(response[i]['title'])\n",
    "print(response[i]['venue'])\n",
    "print()\n",
    "print(response[i]['abstract'])"
   ]
  },
  {
   "cell_type": "code",
   "execution_count": 73,
   "id": "1ba38ab1",
   "metadata": {},
   "outputs": [
    {
     "data": {
      "text/plain": [
       "1000"
      ]
     },
     "execution_count": 73,
     "metadata": {},
     "output_type": "execute_result"
    }
   ],
   "source": [
    "len(response)"
   ]
  },
  {
   "cell_type": "code",
   "execution_count": 88,
   "id": "f3cb778e",
   "metadata": {},
   "outputs": [],
   "source": [
    "response[0]['externalIds'].get('DOInk')"
   ]
  },
  {
   "cell_type": "code",
   "execution_count": 86,
   "id": "00f78c8a",
   "metadata": {},
   "outputs": [
    {
     "data": {
      "text/plain": [
       "dict"
      ]
     },
     "execution_count": 86,
     "metadata": {},
     "output_type": "execute_result"
    }
   ],
   "source": [
    "type(response[0]['externalIds'])"
   ]
  }
 ],
 "metadata": {
  "kernelspec": {
   "display_name": "systematic-review-py3.12",
   "language": "python",
   "name": "systematic-review-py3.12"
  },
  "language_info": {
   "codemirror_mode": {
    "name": "ipython",
    "version": 3
   },
   "file_extension": ".py",
   "mimetype": "text/x-python",
   "name": "python",
   "nbconvert_exporter": "python",
   "pygments_lexer": "ipython3",
   "version": "3.12.4"
  }
 },
 "nbformat": 4,
 "nbformat_minor": 5
}
